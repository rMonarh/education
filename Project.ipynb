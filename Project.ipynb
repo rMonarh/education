{
 "cells": [
  {
   "cell_type": "code",
   "execution_count": null,
   "id": "2c3dc8b8-5f5f-4f9c-b4ad-b8cc23ac5fb8",
   "metadata": {},
   "outputs": [],
   "source": [
    "import pandas as pd\n",
    "import numpy as np\n",
    "import io\n",
    "import csv\n",
    "from tqdm import tqdm\n",
    "#!pip install catboost\n",
    "\n",
    "pd.set_option(\"display.precision\", 2)"
   ]
  },
  {
   "cell_type": "markdown",
   "id": "4f85c73f-e01e-4d60-9863-3ed99be7b209",
   "metadata": {},
   "source": [
    "## Сбор данных"
   ]
  },
  {
   "cell_type": "code",
   "execution_count": null,
   "id": "7db398c3-715a-4b50-a88d-a1141c38e55b",
   "metadata": {},
   "outputs": [],
   "source": [
    "# Добавление транзакций в формате [ид пользователя, код типа транзакции]\n",
    "data = []\n",
    "path_to_inter_file = '/content/drive/MyDrive/data-fusion2022-education/data/transactions.csv'\n",
    "with io.open(path_to_inter_file, 'r', encoding='utf-8') as f:\n",
    "    reader = csv.reader(f, delimiter=',')\n",
    "    for row in tqdm(reader):\n",
    "        data.append(row[:2])"
   ]
  },
  {
   "cell_type": "code",
   "execution_count": null,
   "id": "2f01ff6f-ba64-4fc0-83cc-de7ba795e8d1",
   "metadata": {},
   "outputs": [],
   "source": [
    "# # Словарь ид пользователя : коды всех транзакций всего уникальных пользователей 22533\n",
    "# temp = {}\n",
    "# for i in tqdm(range(1, len(data))): # со 2го чтобы не включать заголовок\n",
    "#     if data[i][0] in temp:\n",
    "#         temp[data[i][0]].append(data[i][1])\n",
    "#     else:\n",
    "#         temp.update({data[i][0]: [data[i][1]]})\n",
    "\n",
    "# Словарь ид пользователя: код трнзакции: количество\n",
    "temp = {}\n",
    "for i in tqdm(range(1, len(data))):\n",
    "  if data[i][0] in temp:\n",
    "    if data[i][1] in temp[data[i][0]]:\n",
    "      temp[data[i][0]][data[i][1]]=int(temp[data[i][0]][data[i][1]])+1\n",
    "    else:\n",
    "      temp[data[i][0]][data[i][1]] = '1'\n",
    "  else:\n",
    "    temp.update({data[i][0]: {data[i][1]: '1'}})"
   ]
  },
  {
   "cell_type": "code",
   "execution_count": null,
   "id": "cab8c402-46bb-48e6-94be-fbc357793f53",
   "metadata": {},
   "outputs": [],
   "source": [
    "# Преобразование словаря в df\n",
    "df=pd.DataFrame.from_dict(temp)\n",
    "df=df.transpose()\n",
    "df=df.astype(str).astype(float)\n",
    "df.fillna(0., inplace=True)\n",
    "df.head()"
   ]
  },
  {
   "cell_type": "code",
   "execution_count": null,
   "id": "d21db08f-70da-46f9-842e-44a95b49df5a",
   "metadata": {},
   "outputs": [],
   "source": [
    "# Добавление транзакций в формате [ид пользователя, код валюты]\n",
    "data = []\n",
    "# path_to_inter_file = '/content/data/transactions.csv'\n",
    "path_to_inter_file = '/content/drive/MyDrive/data-fusion2022-education/data/transactions.csv'\n",
    "with io.open(path_to_inter_file, 'r', encoding='utf-8') as f:\n",
    "    reader = csv.reader(f, delimiter=',')\n",
    "    for row in tqdm(reader):\n",
    "        indices = [0, 2]\n",
    "        a = [row[index] for index in indices]\n",
    "        data.append(a)"
   ]
  },
  {
   "cell_type": "code",
   "execution_count": null,
   "id": "d48fc2e6-8912-4ae3-8cef-780b9b355b15",
   "metadata": {},
   "outputs": [],
   "source": [
    "# Словарь ид пользователя: код валюты: количество\n",
    "temp = {}\n",
    "for i in tqdm(range(1, len(data))):\n",
    "  if data[i][0] in temp:\n",
    "    if data[i][1] in temp[data[i][0]]:\n",
    "      temp[data[i][0]][data[i][1]]=int(temp[data[i][0]][data[i][1]])+1\n",
    "    else:\n",
    "      temp[data[i][0]][data[i][1]] = '1'\n",
    "  else:\n",
    "    temp.update({data[i][0]: {data[i][1]: '1'}})"
   ]
  },
  {
   "cell_type": "code",
   "execution_count": null,
   "id": "2aae4f7e-1c10-4d49-86f2-564026bc405c",
   "metadata": {},
   "outputs": [],
   "source": [
    "# Преобразование словаря в df\n",
    "df1=pd.DataFrame.from_dict(temp) # , index=\n",
    "df1=df1.transpose()\n",
    "df1=df1.astype(str).astype(float)\n",
    "df1.fillna(0., inplace=True)\n",
    "df1.head()"
   ]
  },
  {
   "cell_type": "code",
   "execution_count": null,
   "id": "72491177-0bc9-48c5-b1b4-819776bbd88f",
   "metadata": {},
   "outputs": [],
   "source": [
    "# Объединение кодов валют евро и доллара\n",
    "forex = []\n",
    "for index, row in df.iterrows():\n",
    "  a = ((row['50'])+(row['60']))\n",
    "  forex.append(a)\n",
    "\n",
    "df1['forex'] = forex\n",
    "df1.drop(['50', '60'], axis=1, inplace=True)\n",
    "df1.rename(columns={\"-1\": \"cur_other\", \"48\": \"rub\"}, inplace=True)\n",
    "df1"
   ]
  },
  {
   "cell_type": "code",
   "execution_count": null,
   "id": "812373ef-d773-463b-a1be-1b49ded24ca2",
   "metadata": {},
   "outputs": [],
   "source": [
    "#Объединение датасетов\n",
    "df2 = pd.merge(df, df1, how='left', left_index=True, right_index=True)\n",
    "df2\n",
    "df2.to_csv('/content/drive/MyDrive/data-fusion2022-education/data/Data_noft.csv')"
   ]
  },
  {
   "cell_type": "code",
   "execution_count": null,
   "id": "4902e989-82a0-4e1a-9153-5ddfba24cb2d",
   "metadata": {},
   "outputs": [],
   "source": [
    "#Дополнительные фичи, которые в дальнейшем был опущены"
   ]
  },
  {
   "cell_type": "code",
   "execution_count": null,
   "id": "5b1d6c5d-65c8-4411-b39a-2132399b0a39",
   "metadata": {},
   "outputs": [],
   "source": [
    "#Фича 1 Попудярный код транзакции\n",
    "df1['Top_tr'] = df1.idxmax(axis=1)\n",
    "df1= df1.drop(df1.columns[0:-1], axis=1)\n",
    "df1.head()\n"
   ]
  },
  {
   "cell_type": "code",
   "execution_count": null,
   "id": "8a92194d-db91-440c-af00-d6d43342eb7b",
   "metadata": {},
   "outputs": [],
   "source": [
    "#Фича 2 Количество транзакций\n",
    "df1['Trans_qt']=df.sum(axis=1)"
   ]
  },
  {
   "cell_type": "code",
   "execution_count": null,
   "id": "00414a08-19c0-4caa-a868-3c50ae7201bb",
   "metadata": {},
   "outputs": [],
   "source": [
    "#Фича 3 Менее популярная категория\n",
    "df1['Low_tr'] = df.idxmin(axis=1)\n",
    "df1.head()"
   ]
  },
  {
   "cell_type": "code",
   "execution_count": null,
   "id": "5181988c-6c4e-4cc9-b4e2-de90a3a8c335",
   "metadata": {},
   "outputs": [],
   "source": [
    "#Фича 4 Вторая популярная категория\n",
    "for i, row in tqdm(df.iterrows()):\n",
    "  df.at[i, df1.loc[i]['Top_tr']] = 0\n",
    "df1['Top_tr_2'] = df.idxmax(axis=1)"
   ]
  },
  {
   "cell_type": "code",
   "execution_count": null,
   "id": "7226c235-ea74-4ea5-83d8-e85c27129dc5",
   "metadata": {},
   "outputs": [],
   "source": [
    "#Фича 5 Третья популярная категория\n",
    "for i, row in tqdm(df.iterrows()):\n",
    "  df.at[i, df1.loc[i]['Top_tr_2']] = 0\n",
    "df1['Top_tr_3'] = df.idxmax(axis=1)"
   ]
  },
  {
   "cell_type": "markdown",
   "id": "7c24bf7d-cef6-4468-b7e2-63a54a1cf0ea",
   "metadata": {},
   "source": [
    "## Вычисление моделей"
   ]
  },
  {
   "cell_type": "markdown",
   "id": "d883b431-750e-4ad9-a339-306e98062a3b",
   "metadata": {},
   "source": [
    "### Logit"
   ]
  },
  {
   "cell_type": "code",
   "execution_count": null,
   "id": "b5ec0b17-0a5a-4f2d-9646-a704f765e8a6",
   "metadata": {},
   "outputs": [],
   "source": [
    "import seaborn as sns\n",
    "from matplotlib import pyplot as plt\n",
    "from sklearn.linear_model import  LogisticRegression\n",
    "from sklearn.model_selection import train_test_split\n",
    "from sklearn.metrics import accuracy_score\n",
    "from sklearn.metrics import classification_report\n",
    "from sklearn.metrics import confusion_matrix"
   ]
  },
  {
   "cell_type": "code",
   "execution_count": null,
   "id": "9792e0ae-0867-4849-b4b7-07ee633dd5ce",
   "metadata": {},
   "outputs": [],
   "source": [
    "# Подготовка данных для обучения\n",
    "dftr = pd.read_csv(\"/content/drive/MyDrive/data-fusion2022-education/data/Data_noft.csv\", index_col=0)\n",
    "dfn = pd.read_csv(\"/content/drive/MyDrive/data-fusion2022-education/data/train.csv\", index_col=0)\n",
    "dftr = pd.merge(dfn, dftr, how='left', left_index=True, right_index=True)"
   ]
  },
  {
   "cell_type": "code",
   "execution_count": null,
   "id": "84aaa8b4-1045-41b9-97a4-203a69eb8c73",
   "metadata": {},
   "outputs": [],
   "source": [
    "X = dftr.drop('higher_education', axis=1)\n",
    "y = dftr[\"higher_education\"]"
   ]
  },
  {
   "cell_type": "code",
   "execution_count": null,
   "id": "70291f9e-bb18-4a21-b11e-4413538679a9",
   "metadata": {},
   "outputs": [],
   "source": [
    "x_train, x_test, y_train, y_test = train_test_split(X, y, random_state=1)"
   ]
  },
  {
   "cell_type": "code",
   "execution_count": null,
   "id": "72bcc21b-8aca-4615-bc96-a7421bdfd278",
   "metadata": {},
   "outputs": [],
   "source": [
    "Logit = LogisticRegression(\n",
    "    C=10,\n",
    "    class_weight={0: 1.6, 1: 1.},\n",
    "    intercept_scaling=18,\n",
    "    solver = 'liblinear',\n",
    "    )\n",
    "Logit.fit(x_train, y_train)\n",
    "#Logit.fit(X, Y)"
   ]
  },
  {
   "cell_type": "code",
   "execution_count": null,
   "id": "998b557f-86f4-41df-a9c3-fd6b31a43b5e",
   "metadata": {},
   "outputs": [],
   "source": [
    "# Hyperparameter tuning\n",
    "from sklearn.pipeline import Pipeline\n",
    "from sklearn.feature_extraction.text import TfidfVectorizer\n",
    "from sklearn.svm import LinearSVC\n",
    "from sklearn.model_selection import StratifiedKFold, GridSearchCV\n",
    "from sklearn.linear_model import LogisticRegression\n",
    "from sklearn.linear_model import SGDClassifier\n",
    "folds = 5\n",
    "\n",
    "pipeline = Pipeline([\n",
    "    ('LogisticRegression', LogisticRegression(random_state=42))\n",
    "])\n",
    "parameters = { \n",
    "    'LogisticRegression__C': (10, 15, 9),\n",
    "    'LogisticRegression__class_weight' : ({0: 1.3, 1: 1.}, {0: 1.6, 1: 1.}, {0: 1.5, 1: 1.}),\n",
    "    'LogisticRegression__intercept_scaling' : (10, 15, 9),\n",
    "    'LogisticRegression__solver' : ('liblinear', 'lbfgs')\n",
    "}\n",
    "c_val = StratifiedKFold(n_splits=folds)\n",
    "\n",
    "grid_search_tune = GridSearchCV(pipeline, parameters, cv=c_val, verbose=3, n_jobs=4, scoring='f1_macro')\n",
    "grid_search_tune.fit(x_train, y_train)\n",
    "\n",
    "print(\"Best parameters set:\")\n",
    "print(grid_search_tune.best_estimator_.steps)"
   ]
  },
  {
   "cell_type": "code",
   "execution_count": null,
   "id": "f79f5ec1-15ec-4b0d-a769-d577fca5f1c3",
   "metadata": {},
   "outputs": [],
   "source": [
    "y_pred=Logit.predict(x_test)\n",
    "print(classification_report(y_test, y_pred))"
   ]
  },
  {
   "cell_type": "code",
   "execution_count": null,
   "id": "43723e0c-acb5-4ce3-a604-0272ea5f3209",
   "metadata": {},
   "outputs": [],
   "source": [
    "# Прогноз для отправляемых данных \n",
    "dftr = pd.read_csv(\"/content/drive/MyDrive/data-fusion2022-education/data/Data_noft.csv\", index_col=0)\n",
    "dfn = pd.read_csv(\"/content/drive/MyDrive/data-fusion2022-education/data/sample_submission.csv\", index_col=0)\n",
    "dfsb = pd.merge(dfn, dftr, how='left', left_index=True, right_index=True)\n",
    "dfsb.drop('higher_education_proba', axis=1, inplace=True)\n",
    "dfsb"
   ]
  },
  {
   "cell_type": "code",
   "execution_count": null,
   "id": "059e7638-027a-46b7-b319-1926a03d6836",
   "metadata": {},
   "outputs": [],
   "source": [
    "prediction = Logit.predict_proba(dfsb)"
   ]
  },
  {
   "cell_type": "code",
   "execution_count": null,
   "id": "85405641-f947-441d-a006-42bbc3042ce1",
   "metadata": {},
   "outputs": [],
   "source": [
    "dfsb.reset_index(inplace=True)\n",
    "dfp = pd.DataFrame(prediction[:,1], columns = ['Prediction'])\n",
    "dfsb = pd.merge(dfp, dfsb, how='left', left_index=True, right_index=True)\n",
    "dfsb.set_index('bank', inplace=True)\n",
    "dfsb = dfsb[['Prediction', '5411']]\n",
    "dfsb.drop('5411', axis=1, inplace=True)\n",
    "dfsb['higher_education_proba'] = dfsb['Prediction']\n",
    "dfsb.drop('Prediction', axis=1, inplace=True)\n",
    "dfsb.to_csv(\"/content/drive/MyDrive/data-fusion2022-education/data/Logit_trans.csv\")"
   ]
  },
  {
   "cell_type": "markdown",
   "id": "91c0b233-875b-4a28-9072-adc58e5331e5",
   "metadata": {},
   "source": [
    "### Catboost"
   ]
  },
  {
   "cell_type": "code",
   "execution_count": null,
   "id": "aec315c5-9349-49d4-9524-6547112b8bcc",
   "metadata": {},
   "outputs": [],
   "source": [
    "import catboost\n",
    "from catboost import *"
   ]
  },
  {
   "cell_type": "code",
   "execution_count": null,
   "id": "ff6a3614-7382-4a7b-9c42-d9b28524dc2c",
   "metadata": {},
   "outputs": [],
   "source": [
    "# Данные\n",
    "dftr = pd.read_csv(\"Data_noft.csv\", index_col=0)\n",
    "dfn = pd.read_csv(\"train.csv\", index_col=0)\n",
    "dftr = pd.merge(dfn, dftr, how='left', left_index=True, right_index=True)"
   ]
  },
  {
   "cell_type": "code",
   "execution_count": null,
   "id": "10f6f2c6-a0d5-468b-be26-e14a9e277bd0",
   "metadata": {},
   "outputs": [],
   "source": [
    "X = dftr.drop(['higher_education', 'day_time_transaction_if_night'], axis=1)\n",
    "y = dftr[\"higher_education\"]"
   ]
  },
  {
   "cell_type": "code",
   "execution_count": null,
   "id": "bf42e48c-4261-4aee-89af-e0335e7181fa",
   "metadata": {},
   "outputs": [],
   "source": [
    "x_train, x_test, y_train, y_test = train_test_split(X, y, random_state=1)"
   ]
  },
  {
   "cell_type": "code",
   "execution_count": 54,
   "id": "1b40fd07-98b4-4d7f-90da-e94b5a67196b",
   "metadata": {},
   "outputs": [
    {
     "data": {
      "application/vnd.jupyter.widget-view+json": {
       "model_id": "b05cd5383cbb441a950650858e5b9c15",
       "version_major": 2,
       "version_minor": 0
      },
      "text/plain": [
       "MetricVisualizer(layout=Layout(align_self='stretch', height='500px'))"
      ]
     },
     "metadata": {},
     "output_type": "display_data"
    }
   ],
   "source": [
    "#Модель\n",
    "model = CatBoostClassifier(iterations=100,\n",
    "                           eval_metric='AUC',\n",
    "                           learning_rate=0.1,\n",
    "                           depth=3,\n",
    "                          class_weights=(2, 1),\n",
    "                          l2_leaf_reg= 7)\n",
    "# Fit model\n",
    "model.fit(X, y,\n",
    "          #eval_set=(x_test, y_test),\n",
    "          plot=True,\n",
    "          verbose=False)\n",
    "# Get predictions\n",
    "preds = model.predict(x_test)"
   ]
  },
  {
   "cell_type": "code",
   "execution_count": null,
   "id": "a6bf7ded-910f-4b94-8e22-f27471e86226",
   "metadata": {},
   "outputs": [],
   "source": [
    "# Hyperparameter tuning\n",
    "model = CatBoostClassifier()\n",
    "\n",
    "grid = {'learning_rate': [0.1],\n",
    "        'depth': [3],\n",
    "        'l2_leaf_reg': [7, 9, 10]}\n",
    "\n",
    "grid_search_result = model.grid_search(grid, \n",
    "                                       X=X, \n",
    "                                       y=y, \n",
    "                                       plot=True)"
   ]
  },
  {
   "cell_type": "code",
   "execution_count": null,
   "id": "4342e2f5-af04-459a-abae-708b2ee9d04c",
   "metadata": {},
   "outputs": [],
   "source": [
    "dftr = pd.read_csv(\"Data_noft.csv\", index_col=0)\n",
    "dfn = pd.read_csv(\"sample_submission.csv\", index_col=0)\n",
    "dfsb = pd.merge(dfn, dftr, how='left', left_index=True, right_index=True)\n",
    "dfsb.drop('higher_education_proba', axis=1, inplace=True)\n",
    "dfsb.drop('day_time_transaction_if_night', axis=1, inplace=True)"
   ]
  },
  {
   "cell_type": "code",
   "execution_count": null,
   "id": "1dc69633-5031-4709-8065-9f11c3efe95c",
   "metadata": {},
   "outputs": [],
   "source": [
    "prediction = model.predict_proba(dfsb)"
   ]
  },
  {
   "cell_type": "code",
   "execution_count": null,
   "id": "1a99eb72-a7d6-43bf-8db9-15011f6658a0",
   "metadata": {},
   "outputs": [],
   "source": [
    "dfsb.reset_index(inplace=True)\n",
    "dfp = pd.DataFrame(prediction[:,1], columns = ['Prediction'])\n",
    "dfsb = pd.merge(dfp, dfsb, how='left', left_index=True, right_index=True)\n",
    "dfsb.set_index('bank', inplace=True)\n",
    "dfsb = dfsb[['Prediction', '5411']]\n",
    "dfsb.drop('5411', axis=1, inplace=True)\n",
    "dfsb['higher_education_proba'] = dfsb['Prediction']\n",
    "dfsb.drop('Prediction', axis=1, inplace=True)\n",
    "dfsb.to_csv(\"CB_trans2.csv\")"
   ]
  },
  {
   "cell_type": "markdown",
   "id": "1c45dccc-533c-4565-a860-21323d0a827a",
   "metadata": {},
   "source": [
    "### XGBoost"
   ]
  },
  {
   "cell_type": "code",
   "execution_count": null,
   "id": "902ca130-d22f-4a33-b28f-c55e3353579d",
   "metadata": {},
   "outputs": [],
   "source": [
    "import xgboost as xgb\n",
    "from xgboost import XGBClassifier\n",
    "from sklearn.model_selection import GridSearchCV\n",
    "from sklearn.metrics import accuracy_score\n",
    "from sklearn.metrics import roc_auc_score\n",
    "from sklearn.metrics import classification_report\n",
    "from sklearn.model_selection import cross_val_score, KFold\n",
    "\n",
    "import matplotlib.pyplot as plt"
   ]
  },
  {
   "cell_type": "code",
   "execution_count": null,
   "id": "785d9f2a-f2fa-46e4-90ff-a70a4663adbe",
   "metadata": {},
   "outputs": [],
   "source": [
    "dftr = pd.read_csv(\"/content/drive/MyDrive/data-fusion2022-education/data/Data_noft.csv\", index_col=0)\n",
    "dfn = pd.read_csv(\"/content/drive/MyDrive/data-fusion2022-education/data/train.csv\", index_col=0)\n",
    "dftr = pd.merge(dfn, dftr, how='left', left_index=True, right_index=True)"
   ]
  },
  {
   "cell_type": "code",
   "execution_count": null,
   "id": "8154d2c6-5f26-4b96-87db-39d54e602e86",
   "metadata": {},
   "outputs": [],
   "source": [
    "X = dftr.drop(['higher_education', 'day_time_transaction_if_night'], axis=1)\n",
    "y = dftr[\"higher_education\"]"
   ]
  },
  {
   "cell_type": "code",
   "execution_count": null,
   "id": "b7a83555-0d15-4ec9-ac77-4ce09ebfdced",
   "metadata": {},
   "outputs": [],
   "source": [
    "x_train, x_test, y_train, y_test = train_test_split(X, y, random_state=1)"
   ]
  },
  {
   "cell_type": "code",
   "execution_count": null,
   "id": "58196f6c-2a3e-4eca-9b13-b67f19b11e50",
   "metadata": {},
   "outputs": [],
   "source": [
    "xgb.XGBClassifier().get_params()"
   ]
  },
  {
   "cell_type": "code",
   "execution_count": null,
   "id": "2d292e6f-1dd3-47fa-a014-440ccd9d1753",
   "metadata": {},
   "outputs": [],
   "source": [
    "model_xgb = xgb.XGBClassifier(learning_rate=0.02, \n",
    "                              max_depth=3, \n",
    "                              n_estimators=1000, \n",
    "                              subsample=0.5, \n",
    "                              colsample_bytree=0.5,\n",
    "                              eval_metric='auc',\n",
    "                              verbosity=1)\n",
    "\n",
    "eval_set = [(x_test, y_test)]\n",
    "\n",
    "model_xgb.fit(x_train,\n",
    "              y_train,\n",
    "              early_stopping_rounds=10,\n",
    "              eval_set=eval_set,\n",
    "              verbose=True)"
   ]
  },
  {
   "cell_type": "code",
   "execution_count": null,
   "id": "b0ddb9cf-1c61-4aff-9282-7fb1b94775ff",
   "metadata": {},
   "outputs": [],
   "source": [
    "scores = cross_val_score(xgbc, x_train, y_train, cv=5)\n",
    "print(\"Mean cross-validation score: %.2f\" % scores.mean())\n",
    " \n",
    "kfold = KFold(n_splits=10, shuffle=True)\n",
    "kf_cv_scores = cross_val_score(xgbc, x_train, y_train, cv=kfold )\n",
    "print(\"K-fold CV average score: %.2f\" % kf_cv_scores.mean())"
   ]
  },
  {
   "cell_type": "code",
   "execution_count": null,
   "id": "e524837f-5057-414f-be18-b4d591db6f1c",
   "metadata": {},
   "outputs": [],
   "source": [
    "ypred = model_xgb.predict(x_test)\n",
    "cr = classification_report(y_test, ypred)\n",
    "print(cr) "
   ]
  },
  {
   "cell_type": "code",
   "execution_count": null,
   "id": "86870aa8-3f2e-4eb9-9c62-1f291a88d2ff",
   "metadata": {},
   "outputs": [],
   "source": [
    "learning_rate_list= [0.02, 0.05, 0.1]\n",
    "max_depth_list = [2, 3, 5]\n",
    "n_estimators_list = [1000, 2000, 3000]\n",
    "\n",
    "params_dict = {'learning_rate': learning_rate_list,\n",
    "               'max_depth' : max_depth_list,\n",
    "               'n_estimators' : n_estimators_list}\n",
    "\n",
    "num_combinations=1\n",
    "for v in params_dict.values(): num_combinations *= len(v)\n",
    "\n",
    "print(num_combinations)\n",
    "params_dict"
   ]
  },
  {
   "cell_type": "code",
   "execution_count": null,
   "id": "a7e15b3d-1652-478f-b3b0-42b531fc7e80",
   "metadata": {},
   "outputs": [],
   "source": [
    "def my_roc_auc_score(model, X, y): return roc_auc_score(y, model.predict_proba(X)[:,1])\n",
    "\n",
    "model_xgb_hp = GridSearchCV(estimator=XGBClassifier(subsample=0.5,\n",
    "                                                    colsample_bytree=0.25,\n",
    "                                                    eval_metric='auc',\n",
    "                                                    use_label_encoder=False),\n",
    "                            param_grid=params_dict,\n",
    "                            cv=2,\n",
    "                            scoring=my_roc_auc_score,\n",
    "                            return_train_score=True,\n",
    "                            verbose=4)\n",
    "\n",
    "model_xgb_hp.fit(X, y)"
   ]
  },
  {
   "cell_type": "code",
   "execution_count": null,
   "id": "907bd33e-95af-4c05-aa2a-227e6693ad35",
   "metadata": {},
   "outputs": [],
   "source": [
    "ypred = model_xgb.predict(x_test)"
   ]
  },
  {
   "cell_type": "code",
   "execution_count": null,
   "id": "19940175-4c7d-4c88-a7d0-86f6a862de92",
   "metadata": {},
   "outputs": [],
   "source": [
    "dftr = pd.read_csv(\"/content/drive/MyDrive/data-fusion2022-education/data/Data_noft.csv\", index_col=0)\n",
    "dfn = pd.read_csv(\"/content/drive/MyDrive/data-fusion2022-education/data/sample_submission.csv\", index_col=0)\n",
    "dfsb = pd.merge(dfn, dftr, how='left', left_index=True, right_index=True)\n",
    "dfsb.drop('higher_education_proba', axis=1, inplace=True)\n",
    "dfsb.drop('day_time_transaction_if_night', axis=1, inplace=True)"
   ]
  },
  {
   "cell_type": "code",
   "execution_count": null,
   "id": "09bcd439-16bd-4950-89fd-5c668299983a",
   "metadata": {},
   "outputs": [],
   "source": [
    "prediction = model_xgb.predict_proba(dfsb)"
   ]
  },
  {
   "cell_type": "code",
   "execution_count": null,
   "id": "fdb70ae8-3eaa-404e-a622-cc9c2f48541d",
   "metadata": {},
   "outputs": [],
   "source": [
    "dfsb.reset_index(inplace=True)\n",
    "dfp = pd.DataFrame(prediction[:,1], columns = ['Prediction'])\n",
    "dfsb = pd.merge(dfp, dfsb, how='left', left_index=True, right_index=True)\n",
    "dfsb.set_index('bank', inplace=True)\n",
    "dfsb = dfsb[['Prediction', '5411']]\n",
    "dfsb.drop('5411', axis=1, inplace=True)\n",
    "dfsb['higher_education_proba'] = dfsb['Prediction']\n",
    "dfsb.drop('Prediction', axis=1, inplace=True)\n",
    "dfsb.to_csv(\"/content/drive/MyDrive/data-fusion2022-education/data/XGB.csv\")"
   ]
  },
  {
   "cell_type": "code",
   "execution_count": null,
   "id": "1c3da44e-cf49-4259-8fb0-934c2e355f3d",
   "metadata": {},
   "outputs": [],
   "source": []
  },
  {
   "cell_type": "markdown",
   "id": "ea72403a-1948-476c-8557-9794e825f005",
   "metadata": {},
   "source": [
    "### SDG"
   ]
  },
  {
   "cell_type": "code",
   "execution_count": null,
   "id": "803c8cda-a365-4be0-9c5e-25d3a1fa56ba",
   "metadata": {},
   "outputs": [],
   "source": [
    "from sklearn.linear_model import SGDClassifier\n",
    "from sklearn.preprocessing import StandardScaler\n",
    "from sklearn.pipeline import make_pipelin"
   ]
  },
  {
   "cell_type": "code",
   "execution_count": null,
   "id": "c6afe8b5-3001-44f8-9bf5-e6e8880c21ed",
   "metadata": {},
   "outputs": [],
   "source": [
    "dftr = pd.read_csv(\"/content/drive/MyDrive/data-fusion2022-education/data/Data_noft.csv\", index_col=0)\n",
    "dfn = pd.read_csv(\"/content/drive/MyDrive/data-fusion2022-education/data/train.csv\", index_col=0)\n",
    "dftr = pd.merge(dfn, dftr, how='left', left_index=True, right_index=True)"
   ]
  },
  {
   "cell_type": "code",
   "execution_count": null,
   "id": "89a95e4a-4994-41cb-bc28-caf55996c0f9",
   "metadata": {},
   "outputs": [],
   "source": [
    "X = dftr.drop('higher_education', axis=1)\n",
    "y = dftr[\"higher_education\"]"
   ]
  },
  {
   "cell_type": "code",
   "execution_count": null,
   "id": "d89dd06f-38fa-4aba-b33f-6189ede8e161",
   "metadata": {},
   "outputs": [],
   "source": [
    "x_train, x_test, y_train, y_test = train_test_split(X, y, random_state=1)"
   ]
  },
  {
   "cell_type": "code",
   "execution_count": null,
   "id": "357757ab-f9c9-4ef9-9269-0a1b8549e0a7",
   "metadata": {},
   "outputs": [],
   "source": [
    "clf = make_pipeline(StandardScaler(),\n",
    "                    SGDClassifier(max_iter=1000, \n",
    "                                  alpha=1e1, \n",
    "                                  loss = 'modified_huber', \n",
    "                                  penalty = 'l2', \n",
    "                                  random_state=61, \n",
    "                                  class_weight={0: 2.1, 1: 1.0}, \n",
    "                                  fit_intercept=True,\n",
    "                                  tol=1e-2,\n",
    "                                  learning_rate= 'adaptive',\n",
    "                                  eta0= 1))\n",
    "\n",
    "clf.fit(x_train, y_train)"
   ]
  },
  {
   "cell_type": "code",
   "execution_count": null,
   "id": "1460d5cc-ee56-4c59-b1df-1a7d4237dc0e",
   "metadata": {},
   "outputs": [],
   "source": [
    "score = clf.score(x_train, y_train)\n",
    "print(\"Training score: \", score)\n",
    "ypred = clf.predict(x_test)\n",
    "\n",
    "cm = confusion_matrix(y_test, ypred)\n",
    "print(cm) \n",
    "\n",
    "cr = classification_report(y_test, ypred)\n",
    "print(cr) "
   ]
  },
  {
   "cell_type": "code",
   "execution_count": null,
   "id": "93b048ec-08b8-41a5-a3fa-5165f657e2b8",
   "metadata": {},
   "outputs": [],
   "source": [
    "from sklearn.pipeline import Pipeline\n",
    "from sklearn.feature_extraction.text import TfidfVectorizer\n",
    "from sklearn.svm import LinearSVC\n",
    "from sklearn.model_selection import StratifiedKFold, GridSearchCV\n",
    "from sklearn.linear_model import LogisticRegression\n",
    "from sklearn.linear_model import SGDClassifier\n",
    "folds = 2\n",
    "\n",
    "pipeline = Pipeline([\n",
    "    ('SGDClassifier', SGDClassifier(random_state=42))\n",
    "])\n",
    "parameters = {\n",
    "    'SGDClassifier__loss' : [\"hinge\", \"log\"], # \"squared_hinge\", \"modified_huber\", \"perceptron\"\n",
    "    'SGDClassifier__penalty': ('l2', 'l1'), \n",
    "    'SGDClassifier__alpha': np.linspace(9, 9),  # убавить сотку если очень долго возможно упадет если learning_rate будет не optimal. Тогда надо убрать следующий параметр alpha\n",
    "    'SGDClassifier__learning_rate': ['optimal'], # тут надо не в грид серче пробовать ставить разное значение eta0 если пробовать другие параметры\n",
    "    'SGDClassifier__class_weight': ({0: 2., 1: 1.}, {0: 1.8, 1: 1.})\n",
    "}\n",
    "c_val = StratifiedKFold(n_splits=folds)\n",
    "\n",
    "grid_search_tune = GridSearchCV(pipeline, parameters, cv=c_val, verbose=3, n_jobs=4, scoring='f1_macro')\n",
    "grid_search_tune.fit(x_train, y_train)\n",
    "\n",
    "print(\"Best parameters set:\")\n",
    "print(grid_search_tune.best_estimator_.steps)"
   ]
  },
  {
   "cell_type": "code",
   "execution_count": null,
   "id": "1e4b9689-1eae-4472-afad-2b4f3fcb26ca",
   "metadata": {},
   "outputs": [],
   "source": [
    "dftr = pd.read_csv(\"/content/drive/MyDrive/data-fusion2022-education/data/Data_noft.csv\", index_col=0)\n",
    "dfn = pd.read_csv(\"/content/drive/MyDrive/data-fusion2022-education/data/sample_submission.csv\", index_col=0)\n",
    "dfsb = pd.merge(dfn, dftr, how='left', left_index=True, right_index=True)\n",
    "dfsb.drop('higher_education_proba', axis=1, inplace=True)\n",
    "dfsb"
   ]
  },
  {
   "cell_type": "code",
   "execution_count": null,
   "id": "08cfbcd5-1448-41ef-b060-89a356f8ad0f",
   "metadata": {},
   "outputs": [],
   "source": [
    "prediction = clf.predict_proba(dfsb)"
   ]
  },
  {
   "cell_type": "code",
   "execution_count": null,
   "id": "a09e35be-fc09-42db-bf51-149c351a2a2f",
   "metadata": {},
   "outputs": [],
   "source": [
    "dfsb.reset_index(inplace=True)\n",
    "dfp = pd.DataFrame(prediction[:,1], columns = ['Prediction'])\n",
    "dfsb = pd.merge(dfp, dfsb, how='left', left_index=True, right_index=True)\n",
    "dfsb.set_index('bank', inplace=True)\n",
    "dfsb = dfsb[['Prediction', '5411']]\n",
    "dfsb.drop('5411', axis=1, inplace=True)\n",
    "dfsb['higher_education_proba'] = dfsb['Prediction']\n",
    "dfsb.drop('Prediction', axis=1, inplace=True)\n",
    "dfsb.to_csv(\"/content/drive/MyDrive/data-fusion2022-education/data/SDG_trans.csv\")"
   ]
  },
  {
   "cell_type": "markdown",
   "id": "54fe0247-d04a-484e-81c0-d099d6d016db",
   "metadata": {},
   "source": [
    "## Объединение моделей. Voting Classifier"
   ]
  },
  {
   "cell_type": "code",
   "execution_count": null,
   "id": "fd643737-b07b-4d1b-8310-efae279c2d90",
   "metadata": {},
   "outputs": [],
   "source": [
    "from sklearn.ensemble import VotingClassifier"
   ]
  },
  {
   "cell_type": "code",
   "execution_count": null,
   "id": "75df94f8-fa44-47c5-80d3-fd3505d478ef",
   "metadata": {},
   "outputs": [],
   "source": [
    "dftr = pd.read_csv(\"/content/drive/MyDrive/data-fusion2022-education/data/Data_noft.csv\", index_col=0)\n",
    "dfn = pd.read_csv(\"/content/drive/MyDrive/data-fusion2022-education/data/train.csv\", index_col=0)\n",
    "dftr = pd.merge(dfn, dftr, how='left', left_index=True, right_index=True)"
   ]
  },
  {
   "cell_type": "code",
   "execution_count": null,
   "id": "be833f42-8d2a-454d-b555-9448e35f615c",
   "metadata": {},
   "outputs": [],
   "source": [
    "X = dftr.drop('higher_education', axis=1)\n",
    "y = dftr[\"higher_education\"]"
   ]
  },
  {
   "cell_type": "code",
   "execution_count": null,
   "id": "386273f9-24be-4cc5-a026-4c55323b5f25",
   "metadata": {},
   "outputs": [],
   "source": [
    "x_train, x_test, y_train, y_test = train_test_split(X, y, random_state=1)"
   ]
  },
  {
   "cell_type": "code",
   "execution_count": null,
   "id": "6469de78-79e1-4b14-ab50-c2d8d77950d6",
   "metadata": {},
   "outputs": [],
   "source": [
    "clf1 = Logit = LogisticRegression(\n",
    "    C=10,\n",
    "    class_weight={0: 1.6, 1: 1.},\n",
    "    intercept_scaling=18,\n",
    "    solver = 'liblinear',\n",
    "    )\n",
    "clf2 = CatBoostClassifier(iterations=500,\n",
    "                           eval_metric='AUC',\n",
    "                           learning_rate=0.10,\n",
    "                           depth=3,\n",
    "                          class_weights=(0.7, 0.3),\n",
    "                          l2_leaf_reg= 7)\n",
    "clf3 =  make_pipeline(StandardScaler(),\n",
    "                    SGDClassifier(max_iter=1000, \n",
    "                                  alpha=1e1, \n",
    "                                  loss = 'modified_huber', \n",
    "                                  penalty = 'l2', \n",
    "                                  random_state=61, \n",
    "                                  class_weight={0: 2.1, 1: 1.0}, \n",
    "                                  fit_intercept=True,\n",
    "                                  tol=1e-2,\n",
    "                                  learning_rate= 'adaptive',\n",
    "                                  eta0= 1))\n",
    "\n",
    "eclf = VotingClassifier(\n",
    "     estimators=[('lr', clf1), ('cb', clf2), ('sdg', clf3)],\n",
    "    voting='soft')\n",
    "\n",
    "for clf, label in zip([clf1, clf2, clf3, eclf], ['Logistic Regression', 'Catboost', 'SDG', 'Ensemble']):\n",
    "     scores = cross_val_score(clf, X, y, scoring='accuracy', cv=5)\n",
    "     print(\"Accuracy: %0.2f (+/- %0.2f) [%s]\" % (scores.mean(), scores.std(), label))\n",
    "\n",
    "eclf = eclf.fit(X, y)"
   ]
  },
  {
   "cell_type": "code",
   "execution_count": null,
   "id": "7eb9c197-dce5-4654-bff8-fe6d481b4cae",
   "metadata": {},
   "outputs": [],
   "source": [
    "ypred = eclf.predict(x_test)\n",
    "cr = classification_report(y_test, ypred)\n",
    "print(cr) "
   ]
  },
  {
   "cell_type": "code",
   "execution_count": null,
   "id": "f43d03d1-06f9-452d-8d98-c03e01a2b625",
   "metadata": {},
   "outputs": [],
   "source": [
    "dftr = pd.read_csv(\"/content/drive/MyDrive/data-fusion2022-education/data/Data_noft.csv\", index_col=0)\n",
    "dfn = pd.read_csv(\"/content/drive/MyDrive/data-fusion2022-education/data/sample_submission.csv\", index_col=0)\n",
    "dfsb = pd.merge(dfn, dftr, how='left', left_index=True, right_index=True)\n",
    "dfsb.drop('higher_education_proba', axis=1, inplace=True)\n",
    "dfsb"
   ]
  },
  {
   "cell_type": "code",
   "execution_count": null,
   "id": "f9e5862a-f7ef-4785-aa6e-b61a435f9c8d",
   "metadata": {},
   "outputs": [],
   "source": [
    "prediction = eclf.predict_proba(dfsb)"
   ]
  },
  {
   "cell_type": "code",
   "execution_count": null,
   "id": "0804f423-429b-4fdb-aa4a-9c83e4aab841",
   "metadata": {},
   "outputs": [],
   "source": [
    "# Финальный результат\n",
    "dfsb.reset_index(inplace=True)\n",
    "dfp = pd.DataFrame(prediction[:,1], columns = ['Prediction'])\n",
    "dfsb = pd.merge(dfp, dfsb, how='left', left_index=True, right_index=True)\n",
    "dfsb.set_index('bank', inplace=True)\n",
    "dfsb = dfsb[['Prediction', '5411']]\n",
    "dfsb.drop('5411', axis=1, inplace=True)\n",
    "dfsb['higher_education_proba'] = dfsb['Prediction']\n",
    "dfsb.drop('Prediction', axis=1, inplace=True)\n",
    "dfsb.to_csv(\"/content/drive/MyDrive/data-fusion2022-education/data/VotingCl_trans.csv\")\n",
    "dfsb"
   ]
  }
 ],
 "metadata": {
  "kernelspec": {
   "display_name": "Python 3 (ipykernel)",
   "language": "python",
   "name": "python3"
  },
  "language_info": {
   "codemirror_mode": {
    "name": "ipython",
    "version": 3
   },
   "file_extension": ".py",
   "mimetype": "text/x-python",
   "name": "python",
   "nbconvert_exporter": "python",
   "pygments_lexer": "ipython3",
   "version": "3.10.4"
  },
  "toc-showcode": false,
  "toc-showmarkdowntxt": false
 },
 "nbformat": 4,
 "nbformat_minor": 5
}
